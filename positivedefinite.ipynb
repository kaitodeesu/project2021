{
 "cells": [
  {
   "cell_type": "code",
   "execution_count": 17,
   "metadata": {},
   "outputs": [
    {
     "name": "stdout",
     "output_type": "stream",
     "text": [
      "[[ 0.50896802  0.28364902]\n",
      " [ 0.15437664 -0.27700703]]\n",
      "[[ 0.87350878  0.48680839]\n",
      " [ 0.48680839 -0.87350878]]\n"
     ]
    }
   ],
   "source": [
    "import numpy as np\n",
    "from numpy import linalg as LA\n",
    "\n",
    "\n",
    "dimension=2   #次元を指定する\n",
    "\n",
    "def randomnumber(dimension): #ランダムな行列の生成\n",
    "    return np.random.random((dimension,dimension))\n",
    "\n",
    "\n",
    "def gram(a,b):   #規格化\n",
    "    return ((np.dot(a,b)/np.dot(a,a))*a)\n",
    "\n",
    "\n",
    "def hermatite(a): #複素共役\n",
    "    return np.conjugate(a.T)\n",
    "\n",
    "v=randomnumber(dimension)\n",
    "e=np.zeros((dimension,dimension),dtype='float64')#エルミット演算子を生成する単位ベクトル\n",
    "\n",
    "\n",
    "def getu(dimension):\n",
    "    u=np.zeros((dimension,dimension),dtype='float64')#規格化するためのベクトル\n",
    "    u[0]=v[0]\n",
    "    x=0\n",
    "    sum=np.array([0,0],dtype='float64')\n",
    "    for a in range(1,dimension):\n",
    "        for b in range(0,a):\n",
    "            sum+=gram(u[b],v[a])\n",
    "        u[a]=v[a]-sum\n",
    "    return u\n",
    "\n",
    "u=getu(dimension)\n",
    "print(u)\n",
    "\n",
    "for c in range(0,dimension):\n",
    "    e[c]=u[c]/LA.norm(u[c],2)#·ord=2\n",
    "    \n",
    "print(e)\n",
    "\n"
   ]
  },
  {
   "cell_type": "code",
   "execution_count": 18,
   "metadata": {},
   "outputs": [
    {
     "name": "stdout",
     "output_type": "stream",
     "text": [
      "[[0.87350878 0.48680839]]\n",
      "1.0\n"
     ]
    }
   ],
   "source": [
    "#psi=np.random.random((dimension))\n",
    "#psi=e[0]\n",
    "psi=np.array([e[0]])\n",
    "print(psi)\n",
    "print(LA.norm(psi,2))   #ノルム確認"
   ]
  },
  {
   "cell_type": "code",
   "execution_count": 19,
   "metadata": {
    "scrolled": true
   },
   "outputs": [
    {
     "data": {
      "text/plain": [
       "array([[0.87350878]])"
      ]
     },
     "execution_count": 19,
     "metadata": {},
     "output_type": "execute_result"
    }
   ],
   "source": [
    "np.dot(np.dot(psi,e),psi.T)"
   ]
  },
  {
   "cell_type": "code",
   "execution_count": 27,
   "metadata": {},
   "outputs": [
    {
     "name": "stdout",
     "output_type": "stream",
     "text": [
      "10000\n"
     ]
    }
   ],
   "source": [
    "f=0\n",
    "for a in range(0,10000):\n",
    "    u=getu(dimension)\n",
    "    for c in range(0,dimension):\n",
    "        e[c]=u[c]/LA.norm(u[c],2)#·ord=2\n",
    "    psi=psi=np.array([e[0]])\n",
    "    d=np.dot(np.dot(psi,e),psi.T)\n",
    "    if(d>=0):\n#0の回数を判断する",
    "        f=f+1\n",
    "        \n",
    "print(f)"
   ]
  },
  {
   "cell_type": "code",
   "execution_count": null,
   "metadata": {},
   "outputs": [],
   "source": []
  }
 ],
 "metadata": {
  "kernelspec": {
   "display_name": "Python 3",
   "language": "python",
   "name": "python3"
  },
  "language_info": {
   "codemirror_mode": {
    "name": "ipython",
    "version": 3
   },
   "file_extension": ".py",
   "mimetype": "text/x-python",
   "name": "python",
   "nbconvert_exporter": "python",
   "pygments_lexer": "ipython3",
   "version": "3.9.0"
  }
 },
 "nbformat": 4,
 "nbformat_minor": 4
}
