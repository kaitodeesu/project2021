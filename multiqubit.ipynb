{
 "cells": [
  {
   "cell_type": "code",
   "execution_count": 12,
   "metadata": {},
   "outputs": [
    {
     "name": "stdout",
     "output_type": "stream",
     "text": [
      "[[0.59923036]\n",
      " [0.80057666]]\n",
      "[[0.89237026]\n",
      " [0.45130402]]\n",
      "[0.59923036]\n"
     ]
    }
   ],
   "source": [
    "import numpy as np\n",
    "import math \n",
    "import random\n",
    "\n",
    "\n",
    "def qubit():\n",
    "    a=random.random()\n",
    "    b=1-a\n",
    "    c=math.sqrt(a)\n",
    "    d=math.sqrt(b)\n",
    "    e=np.array([[c],[d]])\n",
    "    return(e)\n",
    "\n",
    "\n",
    "def multi():\n",
    "\n",
    "\n",
    "a=qubit()\n",
    "b=qubit()\n",
    "print(a)\n",
    "print(b)\n",
    "print(a[0])"
   ]
  },
  {
   "cell_type": "code",
   "execution_count": null,
   "metadata": {},
   "outputs": [],
   "source": []
  }
 ],
 "metadata": {
  "kernelspec": {
   "display_name": "Python 3",
   "language": "python",
   "name": "python3"
  },
  "language_info": {
   "codemirror_mode": {
    "name": "ipython",
    "version": 3
   },
   "file_extension": ".py",
   "mimetype": "text/x-python",
   "name": "python",
   "nbconvert_exporter": "python",
   "pygments_lexer": "ipython3",
   "version": "3.9.0"
  }
 },
 "nbformat": 4,
 "nbformat_minor": 4
}
