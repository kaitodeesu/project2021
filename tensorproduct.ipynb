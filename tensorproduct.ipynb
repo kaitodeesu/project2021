{
 "cells": [
  {
   "cell_type": "markdown",
   "metadata": {},
   "source": [
    "# n次元を指定するエルミット演算子\n",
    "\n",
    "作り方はgram－Schmidtのアルゴリズムと同じ"
   ]
  },
  {
   "cell_type": "code",
   "execution_count": 16,
   "metadata": {
    "scrolled": false
   },
   "outputs": [
    {
     "name": "stdout",
     "output_type": "stream",
     "text": [
      "[[0.98993619 0.74252542]\n",
      " [0.54644176 0.50402484]]\n",
      "[[ 0.98993619  0.74252542]\n",
      " [-0.04519472  0.06025369]]\n"
     ]
    }
   ],
   "source": [
    "import numpy as np\n",
    "from numpy import linalg as LA\n",
    "\n",
    "\n",
    "dimension=2   #次元を指定する\n",
    "\n",
    "def randomnumber(dimension):\n",
    "    return np.random.random((dimension,dimension))\n",
    "\n",
    "def gram(a,b):\n",
    "    return ((np.dot(a,b)/np.dot(a,a))*a)\n",
    "\n",
    "v=randomnumber(dimension)\n",
    "\n",
    "u=np.zeros((dimension,dimension),dtype='float64')\n",
    "u[0]=v[0]\n",
    "\n",
    "x=0\n",
    "sum=np.array([0,0],dtype='float64')\n",
    "\n",
    "for a in range(1,dimension):\n",
    "    for b in range(0,a):\n",
    "        sum+=gram(u[b],v[a])\n",
    "    u[a]=v[a]-sum\n",
    "    \n",
    "print(v)\n",
    "print(u)"
   ]
  },
  {
   "cell_type": "code",
   "execution_count": 17,
   "metadata": {
    "scrolled": true
   },
   "outputs": [
    {
     "name": "stdout",
     "output_type": "stream",
     "text": [
      "[[ 0.79997157  0.6000379 ]\n",
      " [-0.6000379   0.79997157]]\n"
     ]
    }
   ],
   "source": [
    "e=np.zeros((dimension,dimension),dtype='float64')\n",
    "\n",
    "for c in range(0,dimension):\n",
    "    e[c]=u[c]/LA.norm(u[c],2)#·ord=2\n",
    "    \n",
    "print(e)"
   ]
  },
  {
   "cell_type": "markdown",
   "metadata": {},
   "source": [
    "e:エルミット演算子\n",
    "\n",
    "e(1),e(2).....e(n):ONB"
   ]
  },
  {
   "cell_type": "markdown",
   "metadata": {},
   "source": [
    "# 状態\n",
    "\n",
    "\n",
    "\n",
    "\n",
    "\n"
   ]
  },
  {
   "cell_type": "code",
   "execution_count": 11,
   "metadata": {
    "scrolled": true
   },
   "outputs": [
    {
     "name": "stdout",
     "output_type": "stream",
     "text": [
      "[0.77982103 0.62600253]\n",
      "0.9999999999999999\n"
     ]
    }
   ],
   "source": [
    "#psi=np.random.random((dimension))\n",
    "psi=e[0]\n",
    "print(psi)\n",
    "print(LA.norm(psi,2))   "
   ]
  },
  {
   "cell_type": "markdown",
   "metadata": {},
   "source": [
    "# 密度演算子"
   ]
  },
  {
   "cell_type": "code",
   "execution_count": null,
   "metadata": {},
   "outputs": [],
   "source": []
  }
 ],
 "metadata": {
  "kernelspec": {
   "display_name": "Python 3",
   "language": "python",
   "name": "python3"
  },
  "language_info": {
   "codemirror_mode": {
    "name": "ipython",
    "version": 3
   },
   "file_extension": ".py",
   "mimetype": "text/x-python",
   "name": "python",
   "nbconvert_exporter": "python",
   "pygments_lexer": "ipython3",
   "version": "3.9.0"
  }
 },
 "nbformat": 4,
 "nbformat_minor": 4
}
