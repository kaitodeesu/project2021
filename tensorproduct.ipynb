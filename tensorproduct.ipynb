{
 "cells": [
  {
   "cell_type": "markdown",
   "metadata": {},
   "source": [
    "# エルミット演算子\n",
    "\n",
    "作り方はgram－Schmidtのアルゴリズムと同じ"
   ]
  },
  {
   "cell_type": "code",
   "execution_count": 45,
   "metadata": {
    "scrolled": false
   },
   "outputs": [
    {
     "name": "stdout",
     "output_type": "stream",
     "text": [
      "[[0.85520313 0.63946642]\n",
      " [0.94035398 0.05375801]]\n",
      "[[ 0.85520313  0.63946642]\n",
      " [ 0.3114368  -0.41650619]]\n"
     ]
    }
   ],
   "source": [
    "import numpy as np\n",
    "from numpy import linalg as LA\n",
    "\n",
    "\n",
    "dimension=2   #次元を指定する\n",
    "\n",
    "def randomnumber(dimension):　　#ランダムな行列の生成\n",
    "    return np.random.random((dimension,dimension))\n",
    "\n",
    "\n",
    "def gram(a,b):   #規格化\n",
    "    return ((np.dot(a,b)/np.dot(a,a))*a)\n",
    "\n",
    "\n",
    "def hermatite(a): #複素共役\n",
    "    return np.conjugate(a.T)\n",
    "\n",
    "\n",
    "v=randomnumber(dimension)\n",
    "\n",
    "u=np.zeros((dimension,dimension),dtype='float64')\n",
    "u[0]=v[0]\n",
    "\n",
    "x=0\n",
    "sum=np.array([0,0],dtype='float64')\n",
    "\n",
    "for a in range(1,dimension):\n",
    "    for b in range(0,a):\n",
    "        sum+=gram(u[b],v[a])\n",
    "    u[a]=v[a]-sum\n",
    "    \n",
    "print(v)\n",
    "print(u)\n",
    "\n"
   ]
  },
  {
   "cell_type": "code",
   "execution_count": 46,
   "metadata": {
    "scrolled": true
   },
   "outputs": [
    {
     "name": "stdout",
     "output_type": "stream",
     "text": [
      "[[ 0.80086936  0.5988391 ]\n",
      " [ 0.5988391  -0.80086936]]\n"
     ]
    }
   ],
   "source": [
    "e=np.zeros((dimension,dimension),dtype='float64')\n",
    "\n",
    "for c in range(0,dimension):\n",
    "    e[c]=u[c]/LA.norm(u[c],2)#·ord=2\n",
    "    \n",
    "print(e)"
   ]
  },
  {
   "cell_type": "markdown",
   "metadata": {},
   "source": [
    "e:エルミット演算子\n",
    "\n",
    "e(1),e(2).....e(n):ONB"
   ]
  },
  {
   "cell_type": "markdown",
   "metadata": {},
   "source": [
    "# 状態\n",
    "\n",
    "\n",
    "\n",
    "\n",
    "\n"
   ]
  },
  {
   "cell_type": "code",
   "execution_count": 26,
   "metadata": {
    "scrolled": true
   },
   "outputs": [
    {
     "name": "stdout",
     "output_type": "stream",
     "text": [
      "[[0.79997157 0.6000379 ]]\n",
      "1.0\n"
     ]
    }
   ],
   "source": [
    "#psi=np.random.random((dimension))\n",
    "#psi=e[0]\n",
    "psi=np.array([e[0]])\n",
    "print(psi)\n",
    "print(LA.norm(psi,2))   #ノルム確認"
   ]
  },
  {
   "cell_type": "markdown",
   "metadata": {},
   "source": [
    "# 密度演算子"
   ]
  },
  {
   "cell_type": "markdown",
   "metadata": {},
   "source": [
    "ここで、Aの転置行列を求めるためには、配列のTプロパティ、または transpose()関数を使用します．"
   ]
  },
  {
   "cell_type": "code",
   "execution_count": 28,
   "metadata": {},
   "outputs": [
    {
     "name": "stdout",
     "output_type": "stream",
     "text": [
      "[[0.79997157]\n",
      " [0.6000379 ]]\n"
     ]
    }
   ],
   "source": [
    "print(np.transpose(psi)) #転置行列の確認\n"
   ]
  },
  {
   "cell_type": "code",
   "execution_count": 35,
   "metadata": {},
   "outputs": [
    {
     "name": "stdout",
     "output_type": "stream",
     "text": [
      "[[0.63995452 0.48001326]\n",
      " [0.48001326 0.36004548]]\n"
     ]
    }
   ],
   "source": [
    "rho=np.dot(np.transpose(psi),psi)#密度演算子rho\n",
    "print(rho)"
   ]
  },
  {
   "cell_type": "markdown",
   "metadata": {},
   "source": [
    "# 基底測定"
   ]
  },
  {
   "cell_type": "markdown",
   "metadata": {},
   "source": [
    "2次元の場合、測定値 i_0 ,　i_1を得る確率が基底測定より、"
   ]
  },
  {
   "cell_type": "code",
   "execution_count": 41,
   "metadata": {},
   "outputs": [
    {
     "name": "stdout",
     "output_type": "stream",
     "text": [
      "1.0\n"
     ]
    }
   ],
   "source": [
    "i_0=np.square(LA.norm(np.dot(psi,e[0]),ord=1))\n",
    "print(i_0)"
   ]
  },
  {
   "cell_type": "code",
   "execution_count": 42,
   "metadata": {
    "scrolled": true
   },
   "outputs": [
    {
     "name": "stdout",
     "output_type": "stream",
     "text": [
      "5.207714569623086e-31\n"
     ]
    }
   ],
   "source": [
    "i_1=np.square(LA.norm(np.dot(psi,e[1]),ord=1))\n",
    "print(i_1)"
   ]
  },
  {
   "cell_type": "markdown",
   "metadata": {},
   "source": [
    "# Bron's ruleによる測定結果"
   ]
  },
  {
   "cell_type": "markdown",
   "metadata": {},
   "source": []
  }
 ],
 "metadata": {
  "kernelspec": {
   "display_name": "Python 3",
   "language": "python",
   "name": "python3"
  },
  "language_info": {
   "codemirror_mode": {
    "name": "ipython",
    "version": 3
   },
   "file_extension": ".py",
   "mimetype": "text/x-python",
   "name": "python",
   "nbconvert_exporter": "python",
   "pygments_lexer": "ipython3",
   "version": "3.9.0"
  }
 },
 "nbformat": 4,
 "nbformat_minor": 4
}
